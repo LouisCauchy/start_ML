{
 "cells": [
  {
   "cell_type": "code",
   "execution_count": 1,
   "metadata": {
    "collapsed": true
   },
   "outputs": [],
   "source": [
    "import pandas as pd\n",
    "import numpy as np"
   ]
  },
  {
   "cell_type": "code",
   "execution_count": 2,
   "metadata": {
    "collapsed": true
   },
   "outputs": [],
   "source": [
    "iso = pd.read_csv('data/iso-codes.csv')"
   ]
  },
  {
   "cell_type": "code",
   "execution_count": 17,
   "metadata": {
    "collapsed": false
   },
   "outputs": [],
   "source": [
    "countries = pd.read_csv('data/turpravda/iso-flags.csv')\n",
    "countries = countries.drop('id',axis=1)"
   ]
  },
  {
   "cell_type": "code",
   "execution_count": 12,
   "metadata": {
    "collapsed": true
   },
   "outputs": [],
   "source": [
    "iso_country = pd.merge(countries, iso, left_on = 'code', right_on = 'iso-2')"
   ]
  },
  {
   "cell_type": "code",
   "execution_count": 29,
   "metadata": {
    "collapsed": true
   },
   "outputs": [],
   "source": [
    "coun = ['ukr','rus','non','bel','kazah']\n",
    "\n",
    "def reading(national):\n",
    "    fle = 'data/popular_countries_to_visit/' + national + '.csv'\n",
    "    nat = pd.read_csv(fle)\n",
    "    nat = nat.drop('Unnamed: 0',axis=1)\n",
    "    nat.columns = ['country_name','count']\n",
    "    return nat\n",
    "def forming_iso(nat):\n",
    "    nat_count_iso = pd.merge(iso_country, nat ,left_on='name',right_on='country_name')\n",
    "    nat_count_iso = nat_count_iso.drop('name',axis=1)\n",
    "    nat_count_iso = nat_count_iso.drop('code',axis=1)\n",
    "    \n",
    "    return nat_count_iso\n",
    "def write(nat):\n",
    "    fle = 'data/popular_countries_to_visit/iso/' + nat + '.csv'\n",
    "    df = forming_iso(reading(nat))\n",
    "    \n",
    "    df.to_csv(fle, index=False)"
   ]
  },
  {
   "cell_type": "code",
   "execution_count": 30,
   "metadata": {
    "collapsed": true
   },
   "outputs": [],
   "source": [
    "for country in coun:\n",
    "    write(country)"
   ]
  },
  {
   "cell_type": "code",
   "execution_count": null,
   "metadata": {
    "collapsed": true
   },
   "outputs": [],
   "source": []
  }
 ],
 "metadata": {
  "kernelspec": {
   "display_name": "Python 3",
   "language": "python",
   "name": "python3"
  },
  "language_info": {
   "codemirror_mode": {
    "name": "ipython",
    "version": 3
   },
   "file_extension": ".py",
   "mimetype": "text/x-python",
   "name": "python",
   "nbconvert_exporter": "python",
   "pygments_lexer": "ipython3",
   "version": "3.6.0"
  }
 },
 "nbformat": 4,
 "nbformat_minor": 2
}

{
 "cells": [
  {
   "cell_type": "code",
   "execution_count": 1,
   "metadata": {
    "collapsed": true
   },
   "outputs": [],
   "source": [
    "import pandas as pd\n",
    "import pickle"
   ]
  },
  {
   "cell_type": "code",
   "execution_count": 2,
   "metadata": {
    "collapsed": true
   },
   "outputs": [],
   "source": [
    "filepath_users = 'data/turpravda/userswTypes'; \n",
    "filepath_rev = 'data/turpravda/tripswTypes'; \n",
    "filepath_hotels = 'data/turpravda/hotels39K'\n",
    "filepath_countries = 'data/turpravda/countries'\n",
    "filepath_resorts = 'data/turpravda/resorts'\n",
    "\n",
    "countries = pd.read_csv('data/turpravda/iso-flags.csv')\n",
    "hotels = pd.read_pickle(filepath_hotels)\n",
    "resorts = pd.read_pickle(filepath_resorts)\n",
    "reviews = pd.read_pickle(filepath_rev)\n",
    "with open(filepath_users, 'rb') as f:\n",
    "    users = pickle.load(f)\n",
    "id_for_users = [i for i in range(len(users))]\n",
    "users['user_id'] = id_for_users"
   ]
  },
  {
   "cell_type": "code",
   "execution_count": null,
   "metadata": {
    "collapsed": true
   },
   "outputs": [],
   "source": [
    "######### create list of lists for countries statistics ############"
   ]
  },
  {
   "cell_type": "code",
   "execution_count": 7,
   "metadata": {
    "collapsed": false
   },
   "outputs": [],
   "source": [
    "pop_coun_all = pd.read_csv('data/turpravda/count/visits_per_country.csv',sep=';')"
   ]
  },
  {
   "cell_type": "code",
   "execution_count": 9,
   "metadata": {
    "collapsed": true
   },
   "outputs": [],
   "source": [
    "to_rm = ['Крым', 'Украина', 'Украина - Карпаты', 'Россия']"
   ]
  },
  {
   "cell_type": "code",
   "execution_count": 11,
   "metadata": {
    "collapsed": false
   },
   "outputs": [],
   "source": [
    "pop_coun_all = pop_coun_all.drop(pop_coun_all.index[[2,3,5,8]])"
   ]
  },
  {
   "cell_type": "code",
   "execution_count": 22,
   "metadata": {
    "collapsed": false
   },
   "outputs": [],
   "source": [
    "iso_codes = pd.read_csv('data/iso-codes.csv')"
   ]
  },
  {
   "cell_type": "code",
   "execution_count": 18,
   "metadata": {
    "collapsed": false
   },
   "outputs": [],
   "source": [
    "all_popular_iso = pd.merge(countries, pop_coun_all, left_on='name',right_on='country').drop('name',axis=1).drop('id',axis=1).sort_values('count',ascending=False)"
   ]
  },
  {
   "cell_type": "code",
   "execution_count": 26,
   "metadata": {
    "collapsed": false
   },
   "outputs": [],
   "source": [
    "all_popular_iso = pd.merge(all_popular_iso, iso_codes, left_on='code',right_on='iso-2').drop('code',axis=1)"
   ]
  },
  {
   "cell_type": "code",
   "execution_count": 27,
   "metadata": {
    "collapsed": true
   },
   "outputs": [],
   "source": [
    "all_popular_iso.to_csv(r'data/popular_countries_to_visit/iso/common.csv')"
   ]
  },
  {
   "cell_type": "code",
   "execution_count": 37,
   "metadata": {
    "collapsed": false
   },
   "outputs": [
    {
     "data": {
      "text/html": [
       "<div>\n",
       "<style>\n",
       "    .dataframe thead tr:only-child th {\n",
       "        text-align: right;\n",
       "    }\n",
       "\n",
       "    .dataframe thead th {\n",
       "        text-align: left;\n",
       "    }\n",
       "\n",
       "    .dataframe tbody tr th {\n",
       "        vertical-align: top;\n",
       "    }\n",
       "</style>\n",
       "<table border=\"1\" class=\"dataframe\">\n",
       "  <thead>\n",
       "    <tr style=\"text-align: right;\">\n",
       "      <th></th>\n",
       "      <th>icon_url</th>\n",
       "      <th>country</th>\n",
       "      <th>count</th>\n",
       "      <th>full_name</th>\n",
       "      <th>iso-2</th>\n",
       "      <th>iso-3</th>\n",
       "      <th>iso-num</th>\n",
       "    </tr>\n",
       "  </thead>\n",
       "  <tbody>\n",
       "    <tr>\n",
       "      <th>0</th>\n",
       "      <td>https://upload.wikimedia.org/wikipedia/commons...</td>\n",
       "      <td>Турция</td>\n",
       "      <td>37237</td>\n",
       "      <td>Turkey</td>\n",
       "      <td>TR</td>\n",
       "      <td>TUR</td>\n",
       "      <td>792</td>\n",
       "    </tr>\n",
       "  </tbody>\n",
       "</table>\n",
       "</div>"
      ],
      "text/plain": [
       "                                            icon_url country  count full_name  \\\n",
       "0  https://upload.wikimedia.org/wikipedia/commons...  Турция  37237    Turkey   \n",
       "\n",
       "  iso-2 iso-3  iso-num  \n",
       "0    TR   TUR      792  "
      ]
     },
     "execution_count": 37,
     "metadata": {},
     "output_type": "execute_result"
    }
   ],
   "source": [
    "all_popular_iso.head(1)"
   ]
  },
  {
   "cell_type": "code",
   "execution_count": null,
   "metadata": {
    "collapsed": true
   },
   "outputs": [],
   "source": [
    "########################       Forming js file       ###########################"
   ]
  },
  {
   "cell_type": "code",
   "execution_count": 40,
   "metadata": {
    "collapsed": true
   },
   "outputs": [],
   "source": [
    "common_list = []"
   ]
  },
  {
   "cell_type": "code",
   "execution_count": 41,
   "metadata": {
    "collapsed": false
   },
   "outputs": [],
   "source": [
    "for index, row in all_popular_iso.iterrows():\n",
    "    common_list.append([row['iso-3'], row['count']])"
   ]
  },
  {
   "cell_type": "code",
   "execution_count": 51,
   "metadata": {
    "collapsed": false
   },
   "outputs": [],
   "source": [
    "f = open('../popular_countries/common.txt', 'w')\n",
    "simplejson.dump(common_list, f)\n",
    "f.close()"
   ]
  },
  {
   "cell_type": "code",
   "execution_count": null,
   "metadata": {
    "collapsed": true
   },
   "outputs": [],
   "source": [
    "########################      Not common       ###########################"
   ]
  },
  {
   "cell_type": "code",
   "execution_count": 52,
   "metadata": {
    "collapsed": true
   },
   "outputs": [],
   "source": [
    "rus = pd.read_csv('data/popular_countries_to_visit/iso/rus.csv')\n",
    "bel = pd.read_csv('data/popular_countries_to_visit/iso/bel.csv')\n",
    "non = pd.read_csv('data/popular_countries_to_visit/iso/non.csv')\n",
    "ukr = pd.read_csv('data/popular_countries_to_visit/iso/ukr.csv')\n",
    "kazah = pd.read_csv('data/popular_countries_to_visit/iso/kazah.csv')"
   ]
  },
  {
   "cell_type": "code",
   "execution_count": 55,
   "metadata": {
    "collapsed": false
   },
   "outputs": [],
   "source": [
    "def forming_js(df):\n",
    "    iso_list = []\n",
    "    for index, row in df.iterrows():\n",
    "        iso_list.append([row['iso-3'], row['count']])\n",
    "    return iso_list"
   ]
  },
  {
   "cell_type": "code",
   "execution_count": 56,
   "metadata": {
    "collapsed": true
   },
   "outputs": [],
   "source": [
    "f = open('../popular_countries/rus.txt', 'w')\n",
    "simplejson.dump(forming_js(rus), f)\n",
    "f.close()\n",
    "f = open('../popular_countries/bel.txt', 'w')\n",
    "simplejson.dump(forming_js(bel), f)\n",
    "f.close()\n",
    "f = open('../popular_countries/ukr.txt', 'w')\n",
    "simplejson.dump(forming_js(ukr), f)\n",
    "f.close()\n",
    "f = open('../popular_countries/non.txt', 'w')\n",
    "simplejson.dump(forming_js(non), f)\n",
    "f.close()\n",
    "f = open('../popular_countries/kazah.txt', 'w')\n",
    "simplejson.dump(forming_js(kazah), f)\n",
    "f.close()"
   ]
  },
  {
   "cell_type": "code",
   "execution_count": null,
   "metadata": {
    "collapsed": true
   },
   "outputs": [],
   "source": []
  }
 ],
 "metadata": {
  "kernelspec": {
   "display_name": "Python 3",
   "language": "python",
   "name": "python3"
  },
  "language_info": {
   "codemirror_mode": {
    "name": "ipython",
    "version": 3
   },
   "file_extension": ".py",
   "mimetype": "text/x-python",
   "name": "python",
   "nbconvert_exporter": "python",
   "pygments_lexer": "ipython3",
   "version": "3.6.0"
  }
 },
 "nbformat": 4,
 "nbformat_minor": 2
}

{
 "cells": [
  {
   "cell_type": "code",
   "execution_count": 1,
   "metadata": {
    "collapsed": true
   },
   "outputs": [],
   "source": [
    "import pandas as pd\n",
    "import pickle"
   ]
  },
  {
   "cell_type": "code",
   "execution_count": 2,
   "metadata": {
    "collapsed": true
   },
   "outputs": [],
   "source": [
    "filepath_users = 'data/turpravda/userswTypes'; \n",
    "filepath_rev = 'data/turpravda/tripswTypes'; \n",
    "filepath_hotels = 'data/turpravda/hotels39K'\n",
    "filepath_countries = 'data/turpravda/iso-flags.csv'\n",
    "filepath_resorts = 'data/turpravda/resorts'\n",
    "\n",
    "countries = pd.read_csv(filepath_countries)\n",
    "hotels = pd.read_pickle(filepath_hotels)\n",
    "resorts = pd.read_pickle(filepath_resorts)\n",
    "reviews = pd.read_pickle(filepath_rev)\n",
    "with open(filepath_users, 'rb') as f:\n",
    "    users = pickle.load(f)\n",
    "id_for_users = [i for i in range(len(users))]\n",
    "users['user_id'] = id_for_users"
   ]
  },
  {
   "cell_type": "code",
   "execution_count": 41,
   "metadata": {
    "collapsed": true
   },
   "outputs": [],
   "source": [
    "def unique_col_values(df):\n",
    "    for column in df:\n",
    "        print(\"{} | {} | {}\".format(\n",
    "            df[column].name, len(df[column].unique()), df[column].dtype\n",
    "        ))\n",
    "\n",
    "def agg_avg(df, group_field, calc_field):\n",
    "    grouped = df.groupby(group_field, as_index=False)[calc_field].mean()\n",
    "    grouped = grouped.sort_values(calc_field, ascending = False)\n",
    "    grouped.columns = [group_field, 'Avg ' + str(calc_field)]\n",
    "    return grouped\n",
    "\n",
    "def print_full(x):\n",
    "    pd.set_option('display.max_rows', len(x))\n",
    "    print(x)\n",
    "    pd.reset_option('display.max_rows')"
   ]
  },
  {
   "cell_type": "code",
   "execution_count": 57,
   "metadata": {
    "collapsed": false
   },
   "outputs": [
    {
     "data": {
      "text/plain": [
       "('Dreams Beach Resort', 'Radisson Blu Resort')"
      ]
     },
     "execution_count": 57,
     "metadata": {},
     "output_type": "execute_result"
    }
   ],
   "source": [
    "hotels[hotels['id']==8006].title.tolist()[0] , hotels[hotels['id'] == 8010].title.tolist()[0]"
   ]
  },
  {
   "cell_type": "code",
   "execution_count": 40,
   "metadata": {
    "collapsed": false
   },
   "outputs": [
    {
     "name": "stdout",
     "output_type": "stream",
     "text": [
      "id | 28186 | float64\n",
      "title | 25857 | object\n",
      "stars | 5 | object\n",
      "description | 27855 | object\n",
      "url | 28186 | object\n",
      "rating | 93 | object\n",
      "address | 17663 | object\n",
      "gps_latitude | 14583 | float64\n",
      "gps_longitude | 14597 | float64\n",
      "location | 19333 | object\n",
      "beach | 6146 | object\n",
      "reviews | 214 | float64\n",
      "cost | 1 | float64\n",
      "resort_id | 1646 | object\n"
     ]
    }
   ],
   "source": [
    "unique_col_values(hotels)"
   ]
  },
  {
   "cell_type": "code",
   "execution_count": 25,
   "metadata": {
    "collapsed": false
   },
   "outputs": [],
   "source": [
    "# hotels[(hotels['stars'] != '5')& (hotels['stars'] != '4')&(hotels['stars'] != '3')&(hotels['stars'] != '2')&(hotels['stars'] != '1')]"
   ]
  },
  {
   "cell_type": "code",
   "execution_count": 39,
   "metadata": {
    "collapsed": false
   },
   "outputs": [
    {
     "data": {
      "text/html": [
       "<div>\n",
       "<style>\n",
       "    .dataframe thead tr:only-child th {\n",
       "        text-align: right;\n",
       "    }\n",
       "\n",
       "    .dataframe thead th {\n",
       "        text-align: left;\n",
       "    }\n",
       "\n",
       "    .dataframe tbody tr th {\n",
       "        vertical-align: top;\n",
       "    }\n",
       "</style>\n",
       "<table border=\"1\" class=\"dataframe\">\n",
       "  <thead>\n",
       "    <tr style=\"text-align: right;\">\n",
       "      <th></th>\n",
       "      <th>stars</th>\n",
       "      <th>Avg reviews</th>\n",
       "    </tr>\n",
       "  </thead>\n",
       "  <tbody>\n",
       "    <tr>\n",
       "      <th>4</th>\n",
       "      <td>5</td>\n",
       "      <td>9.453571</td>\n",
       "    </tr>\n",
       "    <tr>\n",
       "      <th>0</th>\n",
       "      <td>1</td>\n",
       "      <td>5.858360</td>\n",
       "    </tr>\n",
       "    <tr>\n",
       "      <th>3</th>\n",
       "      <td>4</td>\n",
       "      <td>4.630313</td>\n",
       "    </tr>\n",
       "    <tr>\n",
       "      <th>2</th>\n",
       "      <td>3</td>\n",
       "      <td>3.313998</td>\n",
       "    </tr>\n",
       "    <tr>\n",
       "      <th>1</th>\n",
       "      <td>2</td>\n",
       "      <td>2.782502</td>\n",
       "    </tr>\n",
       "  </tbody>\n",
       "</table>\n",
       "</div>"
      ],
      "text/plain": [
       "  stars  Avg reviews\n",
       "4     5     9.453571\n",
       "0     1     5.858360\n",
       "3     4     4.630313\n",
       "2     3     3.313998\n",
       "1     2     2.782502"
      ]
     },
     "execution_count": 39,
     "metadata": {},
     "output_type": "execute_result"
    }
   ],
   "source": [
    "agg_avg(hotels,'stars','reviews')"
   ]
  },
  {
   "cell_type": "code",
   "execution_count": null,
   "metadata": {
    "collapsed": true
   },
   "outputs": [],
   "source": []
  },
  {
   "cell_type": "code",
   "execution_count": 15,
   "metadata": {
    "collapsed": false
   },
   "outputs": [],
   "source": [
    "five_star_hotels = hotels[hotels['stars'] == '5'][['id','stars','rating','reviews']]\n",
    "four_star_hotels = hotels[hotels['stars'] == '4'][['id','stars','rating','reviews']]\n",
    "three_star_hotels = hotels[hotels['stars'] == '3'][['id','stars','rating','reviews']]\n",
    "two_star_hotels = hotels[hotels['stars'] == '2'][['id','stars','rating','reviews']]\n",
    "one_star_hotels = hotels[hotels['stars'] == '1'][['id','stars','rating','reviews']]"
   ]
  },
  {
   "cell_type": "code",
   "execution_count": 16,
   "metadata": {
    "collapsed": false
   },
   "outputs": [
    {
     "name": "stdout",
     "output_type": "stream",
     "text": [
      "939 4092 10016 8940 4200\n"
     ]
    }
   ],
   "source": [
    "print(len(one_star_hotels),len(two_star_hotels),len(three_star_hotels),len(four_star_hotels),len(five_star_hotels))"
   ]
  },
  {
   "cell_type": "code",
   "execution_count": 70,
   "metadata": {
    "collapsed": true
   },
   "outputs": [],
   "source": [
    "stars_median = [one_star_hotels,two_star_hotels,three_star_hotels,four_star_hotels,five_star_hotels]"
   ]
  },
  {
   "cell_type": "code",
   "execution_count": 63,
   "metadata": {
    "collapsed": true
   },
   "outputs": [],
   "source": [
    "stars = [one_star_hotels.loc[:900],two_star_hotels.loc[:900],three_star_hotels.loc[:900],four_star_hotels.loc[:900],five_star_hotels.loc[:900]]"
   ]
  },
  {
   "cell_type": "code",
   "execution_count": 81,
   "metadata": {
    "collapsed": true
   },
   "outputs": [],
   "source": [
    "import scipy.stats as st\n",
    "import numpy as np"
   ]
  },
  {
   "cell_type": "code",
   "execution_count": 90,
   "metadata": {
    "collapsed": true
   },
   "outputs": [],
   "source": [
    "def descriptive1d(x):\n",
    "    _x = x  \n",
    "    result = []\n",
    "    m = np.mean(_x)\n",
    "    print('Среднее: ', m)\n",
    "    result.append(m)\n",
    "    \n",
    "    min_ = np.min(_x)\n",
    "    max_ = np.max(_x)\n",
    "    result.append((min_, max_))  \n",
    "    print('Min Max: ', min_,max_)\n",
    "    \n",
    "    std = np.std(_x)\n",
    "    result.append(std)\n",
    "    print('Стандартное отклонение: ', std)\n",
    "    \n",
    "    result.append(result[0]/result[-1])\n",
    "    \n",
    "    print('Квартили: 25,50,75: ', np.percentile(_x, 25), np.percentile(_x, 50), np.percentile(_x, 75)) \n",
    "    result.append((np.percentile(_x, 25), np.percentile(_x, 50), np.percentile(_x, 75)))\n",
    "    \n",
    "    result.append(st.mode(_x)) \n",
    "    print('Mode',st.mode(_x)[0])\n",
    "    \n",
    "    result.append(st.skew(_x))  # асимметрия \n",
    "    print('Ассиметрия',st.skew(_x))\n",
    "    \n",
    "    result.append(st.kurtosis(_x))  # эксцесс\n",
    "    print('Эксцесс',st.kurtosis(_x))\n",
    "    \n",
    "    \n",
    "    _range = np.linspace(0.9 * np.min(_x), 1.1 * np.max(_x), 100)\n",
    "    result.append(st.gaussian_kde(_x)(_range))  # оценка плотности распределения"
   ]
  },
  {
   "cell_type": "code",
   "execution_count": 91,
   "metadata": {
    "collapsed": false
   },
   "outputs": [
    {
     "name": "stdout",
     "output_type": "stream",
     "text": [
      "Среднее:  5.8583599574\n",
      "Min Max:  0.0 226.0\n",
      "Стандартное отклонение:  18.2892439707\n",
      "Квартили: 25,50,75:  0.0 1.0 4.0\n",
      "Mode [ 0.]\n",
      "Ассиметрия 6.916055564731386\n",
      "Эксцесс 59.95244035994925\n"
     ]
    }
   ],
   "source": [
    "descriptive1d(one_star_hotels.reviews.tolist())"
   ]
  },
  {
   "cell_type": "code",
   "execution_count": 92,
   "metadata": {
    "collapsed": false
   },
   "outputs": [
    {
     "name": "stdout",
     "output_type": "stream",
     "text": [
      "Среднее:  2.78250244379\n",
      "Min Max:  0.0 101.0\n",
      "Стандартное отклонение:  6.84346030656\n",
      "Квартили: 25,50,75:  0.0 0.0 2.0\n",
      "Mode [ 0.]\n",
      "Ассиметрия 5.959464333845041\n",
      "Эксцесс 52.95295659914233\n"
     ]
    }
   ],
   "source": [
    "descriptive1d(two_star_hotels.reviews.tolist())"
   ]
  },
  {
   "cell_type": "code",
   "execution_count": 93,
   "metadata": {
    "collapsed": false
   },
   "outputs": [
    {
     "name": "stdout",
     "output_type": "stream",
     "text": [
      "Среднее:  3.31399760383\n",
      "Min Max:  0.0 230.0\n",
      "Стандартное отклонение:  9.82993101114\n",
      "Квартили: 25,50,75:  0.0 0.0 2.0\n",
      "Mode [ 0.]\n",
      "Ассиметрия 7.310394368205771\n",
      "Эксцесс 85.28928554510377\n"
     ]
    }
   ],
   "source": [
    "descriptive1d(three_star_hotels.reviews.tolist())"
   ]
  },
  {
   "cell_type": "code",
   "execution_count": 94,
   "metadata": {
    "collapsed": false
   },
   "outputs": [
    {
     "name": "stdout",
     "output_type": "stream",
     "text": [
      "Среднее:  4.63031319911\n",
      "Min Max:  0.0 474.0\n",
      "Стандартное отклонение:  18.2403821769\n",
      "Квартили: 25,50,75:  0.0 0.0 2.0\n",
      "Mode [ 0.]\n",
      "Ассиметрия 9.297442198424827\n",
      "Эксцесс 128.67254138451503\n"
     ]
    }
   ],
   "source": [
    "descriptive1d(four_star_hotels.reviews.tolist())"
   ]
  },
  {
   "cell_type": "code",
   "execution_count": 95,
   "metadata": {
    "collapsed": false
   },
   "outputs": [
    {
     "name": "stdout",
     "output_type": "stream",
     "text": [
      "Среднее:  9.45357142857\n",
      "Min Max:  0.0 576.0\n",
      "Стандартное отклонение:  34.0338310202\n",
      "Квартили: 25,50,75:  0.0 0.0 2.0\n",
      "Mode [ 0.]\n",
      "Ассиметрия 7.024177209419504\n",
      "Эксцесс 69.0187681550907\n"
     ]
    }
   ],
   "source": [
    "descriptive1d(five_star_hotels.reviews.tolist())"
   ]
  },
  {
   "cell_type": "code",
   "execution_count": 64,
   "metadata": {
    "collapsed": false
   },
   "outputs": [
    {
     "name": "stdout",
     "output_type": "stream",
     "text": [
      "Среднее количество отзывов о  1 звёздном отеле:\n",
      "  stars  Avg reviews\n",
      "0     1    40.333333\n",
      "-----------------------------------------------------\n",
      "Среднее количество отзывов о  2 звёздном отеле:\n",
      "  stars  Avg reviews\n",
      "0     2     4.448276\n",
      "-----------------------------------------------------\n",
      "Среднее количество отзывов о  3 звёздном отеле:\n",
      "  stars  Avg reviews\n",
      "0     3     8.104377\n",
      "-----------------------------------------------------\n",
      "Среднее количество отзывов о  4 звёздном отеле:\n",
      "  stars  Avg reviews\n",
      "0     4    10.816384\n",
      "-----------------------------------------------------\n",
      "Среднее количество отзывов о  5 звёздном отеле:\n",
      "  stars  Avg reviews\n",
      "0     5    23.628415\n",
      "-----------------------------------------------------\n"
     ]
    }
   ],
   "source": [
    "for i in range(len(stars)):\n",
    "    print('Среднее количество отзывов о ', i+1 ,'звёздном отеле:')\n",
    "    print(agg_avg(stars[i],'stars','reviews'))\n",
    "    print(\"-----------------------------------------------------\")"
   ]
  },
  {
   "cell_type": "code",
   "execution_count": 72,
   "metadata": {
    "collapsed": false
   },
   "outputs": [
    {
     "name": "stdout",
     "output_type": "stream",
     "text": [
      "Среднее количество отзывов о  1 звёздном отеле:\n",
      "1.0\n",
      "-----------------------------------------------------\n",
      "Среднее количество отзывов о  2 звёздном отеле:\n",
      "0.0\n",
      "-----------------------------------------------------\n",
      "Среднее количество отзывов о  3 звёздном отеле:\n",
      "0.0\n",
      "-----------------------------------------------------\n",
      "Среднее количество отзывов о  4 звёздном отеле:\n",
      "0.0\n",
      "-----------------------------------------------------\n",
      "Среднее количество отзывов о  5 звёздном отеле:\n",
      "0.0\n",
      "-----------------------------------------------------\n"
     ]
    }
   ],
   "source": [
    "for i in range(len(stars)):\n",
    "    print('Среднее количество отзывов о ', i+1 ,'звёздном отеле:')\n",
    "    print(stars_median[i].reviews.median())\n",
    "    print(\"-----------------------------------------------------\")"
   ]
  },
  {
   "cell_type": "code",
   "execution_count": 75,
   "metadata": {
    "collapsed": false
   },
   "outputs": [
    {
     "name": "stdout",
     "output_type": "stream",
     "text": [
      "Мода  1 звёздном отеле:\n",
      "0    0.0\n",
      "dtype: float64\n",
      "-----------------------------------------------------\n",
      "Мода  2 звёздном отеле:\n",
      "0    0.0\n",
      "dtype: float64\n",
      "-----------------------------------------------------\n",
      "Мода  3 звёздном отеле:\n",
      "0    0.0\n",
      "dtype: float64\n",
      "-----------------------------------------------------\n",
      "Мода  4 звёздном отеле:\n",
      "0    0.0\n",
      "dtype: float64\n",
      "-----------------------------------------------------\n",
      "Мода  5 звёздном отеле:\n",
      "0    0.0\n",
      "dtype: float64\n",
      "-----------------------------------------------------\n"
     ]
    }
   ],
   "source": [
    "for i in range(len(stars)):\n",
    "    print('Мода ', i+1 ,'звёздном отеле:')\n",
    "    print(stars_median[i].reviews.mode())\n",
    "    print(\"-----------------------------------------------------\")"
   ]
  },
  {
   "cell_type": "code",
   "execution_count": null,
   "metadata": {
    "collapsed": true
   },
   "outputs": [],
   "source": []
  }
 ],
 "metadata": {
  "kernelspec": {
   "display_name": "Python 3",
   "language": "python",
   "name": "python3"
  },
  "language_info": {
   "codemirror_mode": {
    "name": "ipython",
    "version": 3
   },
   "file_extension": ".py",
   "mimetype": "text/x-python",
   "name": "python",
   "nbconvert_exporter": "python",
   "pygments_lexer": "ipython3",
   "version": "3.6.0"
  }
 },
 "nbformat": 4,
 "nbformat_minor": 2
}

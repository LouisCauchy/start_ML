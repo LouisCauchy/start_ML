{
 "cells": [
  {
   "cell_type": "code",
   "execution_count": 1,
   "metadata": {
    "collapsed": true
   },
   "outputs": [],
   "source": [
    "import pandas as pd\n",
    "import numpy as np\n",
    "import csv\n",
    "import pickle"
   ]
  },
  {
   "cell_type": "code",
   "execution_count": 2,
   "metadata": {
    "collapsed": true
   },
   "outputs": [],
   "source": [
    "filepath_users = 'turpravda/userswTypes'; \n",
    "filepath_rev = 'turpravda/tripswTypes'; \n",
    "filepath_hotels = 'turpravda/hotels39K'\n",
    "filepath_countries = 'turpravda/countries'\n",
    "filepath_resorts = 'turpravda/resorts'\n",
    "hotels = pd.read_pickle(filepath_hotels)\n",
    "countries = pd.read_pickle(filepath_countries)\n",
    "resorts = pd.read_pickle(filepath_resorts)\n",
    "reviews = pd.read_pickle(filepath_rev)\n",
    "with open(filepath_users, 'rb') as f:\n",
    "    users = pickle.load(f)\n",
    "id_for_users = [i for i in range(len(users))]\n",
    "users['user_id'] = id_for_users"
   ]
  },
  {
   "cell_type": "code",
   "execution_count": 3,
   "metadata": {
    "collapsed": true
   },
   "outputs": [],
   "source": [
    "ukr_users = users[users['country'] == 'Украина']\n",
    "rus_users = users[users['country'] == 'Россия']\n",
    "noncoun_users = users[users['country'] == '']\n",
    "bel_users = users[users['country'] == 'Беларусь']\n",
    "kazah_users = users[users['country'] == 'Казахстан']"
   ]
  },
  {
   "cell_type": "code",
   "execution_count": 4,
   "metadata": {
    "collapsed": false
   },
   "outputs": [
    {
     "name": "stdout",
     "output_type": "stream",
     "text": [
      "8749 9365 1341 4114 585\n",
      "4870 1102 2485 585\n"
     ]
    }
   ],
   "source": [
    "ukrVisitedHotels = pd.merge(reviews, ukr_users, on='user_id').drop('url_x',axis=1).drop('review',axis=1).drop('url_y',axis=1).drop('gender',axis=1).drop('city',axis=1)\n",
    "rusVisitedHotels = pd.merge(reviews, rus_users, on='user_id').drop('url_x',axis=1).drop('review',axis=1).drop('url_y',axis=1).drop('gender',axis=1).drop('city',axis=1)\n",
    "belVisitedHotels = pd.merge(reviews, bel_users, on='user_id').drop('url_x',axis=1).drop('review',axis=1).drop('url_y',axis=1).drop('gender',axis=1).drop('city',axis=1)\n",
    "nonCounVisitedHotels = pd.merge(reviews, noncoun_users, on='user_id').drop('url_x',axis=1).drop('review',axis=1).drop('url_y',axis=1).drop('gender',axis=1).drop('city',axis=1)\n",
    "kazahVisitedHotels = pd.merge(reviews, kazah_users, on='user_id').drop('url_x',axis=1).drop('review',axis=1).drop('url_y',axis=1).drop('gender',axis=1).drop('city',axis=1)\n",
    "\n",
    "set_ukrHotels = set(ukrVisitedHotels['hotel_id'].tolist())\n",
    "set_rusHotels = set(rusVisitedHotels['hotel_id'].tolist())\n",
    "set_belHotels = set(belVisitedHotels['hotel_id'].tolist())\n",
    "set_noncounHotels = set(nonCounVisitedHotels['hotel_id'].tolist())\n",
    "set_kazahHotels = set(kazahVisitedHotels['hotel_id'].tolist())\n",
    "\n",
    "print(len(set_ukrHotels),len(set_rusHotels),len(set_belHotels),len(set_noncounHotels),len(set_kazahHotels))\n",
    "\n",
    "set_ukrRus = set_ukrHotels & set_rusHotels\n",
    "set_ukrBel = set_ukrHotels & set_belHotels\n",
    "set_ukrNonCoun = set_ukrHotels & set_noncounHotels\n",
    "set_ukrKazah = set_ukrHotels & set_kazahHotels\n",
    "print(len(set_ukrRus),len(set_ukrBel),len(set_ukrNonCoun),len(set_kazahHotels))"
   ]
  },
  {
   "cell_type": "code",
   "execution_count": 17,
   "metadata": {
    "collapsed": true
   },
   "outputs": [],
   "source": [
    "def forming_files(dataframe):\n",
    "    new_df = pd.merge(dataframe, hotels, right_on=\"id\",left_on=\"hotel_id\")\n",
    "    new_df = new_df.drop(\"description\",axis=1).drop(\"url\",axis=1).drop(\"location\",axis=1)\n",
    "    new_df = new_df.drop(\"stars\",axis=1).drop(\"address\",axis=1).drop(\"gps_latitude\",axis=1)\n",
    "    new_df = new_df.drop(\"reviews\",axis=1).drop(\"beach\",axis=1).drop(\"gps_longitude\",axis=1)\n",
    "    new_df = new_df.drop(\"cost\",axis=1)\n",
    "    new_df = pd.merge(new_df, resorts, left_on = \"resort_id\",right_on=\"id\").drop(\"resort\",axis=1).drop(\"title\",axis=1)\n",
    "    new_df = new_df.drop(\"id_y\",axis=1).drop(\"id_x\",axis=1)\n",
    "    new_df = pd.merge(new_df, countries, left_on=\"country_id\",right_on=\"id\")\n",
    "    df = new_df.ix[:, 'country_y'].value_counts().reset_index()\n",
    "    return df \n",
    "visited = [ukrVisitedHotels, rusVisitedHotels,belVisitedHotels,kazahVisitedHotels,nonCounVisitedHotels]\n",
    "popular_for_coun = []\n",
    "names = ['ukr','rus','bel','kazah','non']\n",
    "for i in range(len(visited)):\n",
    "    df = forming_files(visited[i])\n",
    "    popular_for_coun.append(df)\n",
    "    name = names[i] + \".csv\"\n",
    "    df.to_csv(name)  \n",
    "    "
   ]
  },
  {
   "cell_type": "code",
   "execution_count": 40,
   "metadata": {
    "collapsed": false
   },
   "outputs": [],
   "source": [
    "hotel = pd.DataFrame({'id' : hotels['id'],\\\n",
    "             'title' : hotels['title'],\\\n",
    "              'stars':hotels['stars'],\\\n",
    "             'latitude': hotels['gps_latitude'],\n",
    "              'longitude':hotels['gps_longitude'],\\\n",
    "                    'resort_id':hotels['resort_id'] })"
   ]
  },
  {
   "cell_type": "code",
   "execution_count": 44,
   "metadata": {
    "collapsed": true
   },
   "outputs": [],
   "source": [
    "hotel = pd.merge(hotel, resorts,left_on='resort_id',right_on='id')"
   ]
  },
  {
   "cell_type": "code",
   "execution_count": 56,
   "metadata": {
    "collapsed": false
   },
   "outputs": [
    {
     "data": {
      "text/html": [
       "<div>\n",
       "<style>\n",
       "    .dataframe thead tr:only-child th {\n",
       "        text-align: right;\n",
       "    }\n",
       "\n",
       "    .dataframe thead th {\n",
       "        text-align: left;\n",
       "    }\n",
       "\n",
       "    .dataframe tbody tr th {\n",
       "        vertical-align: top;\n",
       "    }\n",
       "</style>\n",
       "<table border=\"1\" class=\"dataframe\">\n",
       "  <thead>\n",
       "    <tr style=\"text-align: right;\">\n",
       "      <th></th>\n",
       "      <th>hotel_id</th>\n",
       "      <th>latitude</th>\n",
       "      <th>longitude</th>\n",
       "      <th>resort_id</th>\n",
       "      <th>stars</th>\n",
       "      <th>title</th>\n",
       "      <th>resort</th>\n",
       "      <th>country</th>\n",
       "    </tr>\n",
       "  </thead>\n",
       "  <tbody>\n",
       "    <tr>\n",
       "      <th>0</th>\n",
       "      <td>8004.0</td>\n",
       "      <td>27.9736</td>\n",
       "      <td>34.4239</td>\n",
       "      <td>eg/sharm_el_sheyh</td>\n",
       "      <td>5</td>\n",
       "      <td>Sensatori Sharm El Sheikh Resort</td>\n",
       "      <td>ШАРМ ЭЛЬ ШЕЙХ</td>\n",
       "      <td>eg</td>\n",
       "    </tr>\n",
       "  </tbody>\n",
       "</table>\n",
       "</div>"
      ],
      "text/plain": [
       "   hotel_id  latitude  longitude          resort_id stars  \\\n",
       "0    8004.0   27.9736    34.4239  eg/sharm_el_sheyh     5   \n",
       "\n",
       "                              title         resort country  \n",
       "0  Sensatori Sharm El Sheikh Resort  ШАРМ ЭЛЬ ШЕЙХ      eg  "
      ]
     },
     "execution_count": 56,
     "metadata": {},
     "output_type": "execute_result"
    }
   ],
   "source": [
    "#hotel = hotel.drop('id_y',axis=1)\n",
    "hotel.columns = ['hotel_id','latitude','longitude','resort_id','stars','title','resort','country']\n",
    "hotel.head(1)"
   ]
  },
  {
   "cell_type": "code",
   "execution_count": 57,
   "metadata": {
    "collapsed": false
   },
   "outputs": [
    {
     "data": {
      "text/html": [
       "<div>\n",
       "<style>\n",
       "    .dataframe thead tr:only-child th {\n",
       "        text-align: right;\n",
       "    }\n",
       "\n",
       "    .dataframe thead th {\n",
       "        text-align: left;\n",
       "    }\n",
       "\n",
       "    .dataframe tbody tr th {\n",
       "        vertical-align: top;\n",
       "    }\n",
       "</style>\n",
       "<table border=\"1\" class=\"dataframe\">\n",
       "  <thead>\n",
       "    <tr style=\"text-align: right;\">\n",
       "      <th></th>\n",
       "      <th>hotel_id</th>\n",
       "      <th>latitude</th>\n",
       "      <th>longitude</th>\n",
       "      <th>resort_id</th>\n",
       "      <th>stars</th>\n",
       "      <th>title</th>\n",
       "      <th>resort</th>\n",
       "      <th>country</th>\n",
       "    </tr>\n",
       "  </thead>\n",
       "  <tbody>\n",
       "    <tr>\n",
       "      <th>211</th>\n",
       "      <td>8018.0</td>\n",
       "      <td>36.69031</td>\n",
       "      <td>30.57027</td>\n",
       "      <td>tr/kemer</td>\n",
       "      <td>3</td>\n",
       "      <td>Rios Beach Hotel</td>\n",
       "      <td>КЕМЕР</td>\n",
       "      <td>tr</td>\n",
       "    </tr>\n",
       "    <tr>\n",
       "      <th>212</th>\n",
       "      <td>8973.0</td>\n",
       "      <td>36.65810</td>\n",
       "      <td>30.55640</td>\n",
       "      <td>tr/kemer</td>\n",
       "      <td>5</td>\n",
       "      <td>Queen's Park Goynuk</td>\n",
       "      <td>КЕМЕР</td>\n",
       "      <td>tr</td>\n",
       "    </tr>\n",
       "    <tr>\n",
       "      <th>213</th>\n",
       "      <td>8974.0</td>\n",
       "      <td>36.54730</td>\n",
       "      <td>30.56090</td>\n",
       "      <td>tr/kemer</td>\n",
       "      <td>1</td>\n",
       "      <td>Club Marco Polo</td>\n",
       "      <td>КЕМЕР</td>\n",
       "      <td>tr</td>\n",
       "    </tr>\n",
       "    <tr>\n",
       "      <th>214</th>\n",
       "      <td>8977.0</td>\n",
       "      <td>36.54608</td>\n",
       "      <td>30.55708</td>\n",
       "      <td>tr/kemer</td>\n",
       "      <td>5</td>\n",
       "      <td>Holiday Area Farm Resort</td>\n",
       "      <td>КЕМЕР</td>\n",
       "      <td>tr</td>\n",
       "    </tr>\n",
       "    <tr>\n",
       "      <th>215</th>\n",
       "      <td>8979.0</td>\n",
       "      <td>36.66270</td>\n",
       "      <td>30.55830</td>\n",
       "      <td>tr/kemer</td>\n",
       "      <td>4</td>\n",
       "      <td>Fame Residence Goynuk</td>\n",
       "      <td>КЕМЕР</td>\n",
       "      <td>tr</td>\n",
       "    </tr>\n",
       "  </tbody>\n",
       "</table>\n",
       "</div>"
      ],
      "text/plain": [
       "     hotel_id  latitude  longitude resort_id stars                     title  \\\n",
       "211    8018.0  36.69031   30.57027  tr/kemer     3          Rios Beach Hotel   \n",
       "212    8973.0  36.65810   30.55640  tr/kemer     5       Queen's Park Goynuk   \n",
       "213    8974.0  36.54730   30.56090  tr/kemer     1           Club Marco Polo   \n",
       "214    8977.0  36.54608   30.55708  tr/kemer     5  Holiday Area Farm Resort   \n",
       "215    8979.0  36.66270   30.55830  tr/kemer     4     Fame Residence Goynuk   \n",
       "\n",
       "    resort country  \n",
       "211  КЕМЕР      tr  \n",
       "212  КЕМЕР      tr  \n",
       "213  КЕМЕР      tr  \n",
       "214  КЕМЕР      tr  \n",
       "215  КЕМЕР      tr  "
      ]
     },
     "execution_count": 57,
     "metadata": {},
     "output_type": "execute_result"
    }
   ],
   "source": [
    "turkey_hotels = hotel[hotel['country'] == 'tr']\n",
    "turkey_hotels.head()"
   ]
  },
  {
   "cell_type": "code",
   "execution_count": null,
   "metadata": {
    "collapsed": true
   },
   "outputs": [],
   "source": []
  },
  {
   "cell_type": "code",
   "execution_count": 58,
   "metadata": {
    "collapsed": true
   },
   "outputs": [],
   "source": [
    "turkey_hotels.to_csv(r'data/hotels_data/turkey_hotels_all.csv')"
   ]
  },
  {
   "cell_type": "code",
   "execution_count": null,
   "metadata": {
    "collapsed": true
   },
   "outputs": [],
   "source": [
    "import json\n",
    "import io\n",
    "try:\n",
    "    to_unicode = unicode\n",
    "except NameError:\n",
    "    to_unicode = str"
   ]
  },
  {
   "cell_type": "code",
   "execution_count": null,
   "metadata": {
    "collapsed": false
   },
   "outputs": [],
   "source": [
    "# sets = [\n",
    "#         {\"sets\": [0], \"label\": \"Hotels visited By Ukr\", \"size\": 8749},\n",
    "#         {\"sets\": [1], \"label\": \"Hotels visited By Rus\", \"size\": 9365},\n",
    "#         {\"sets\": [2], \"label\": \"Hotels visited By Bel\", \"size\": 1341},\n",
    "#         {\"sets\": [3], \"label\": \"Hotels visited By Bel\", \"size\": 4114},\n",
    "#         {\"sets\": [4], \"label\": \"Hotels visited By Bel\", \"size\": 585},\n",
    "#         {\"sets\" : [0,1], \"size\": 4870},\n",
    "#         {\"sets\" : [0,2], \"size\": 1102},\n",
    "#         {\"sets\" : [0,3], \"size\": 2485},\n",
    "#         {\"sets\" : [0,4], \"size\": 585}\n",
    "# ]\n",
    "# with io.open('vis/data/data.json', 'w', encoding='utf8') as outfile:\n",
    "#     str_ = json.dumps(sets,\n",
    "#                       indent=4, sort_keys=True,\n",
    "#                       separators=(',', ': '), ensure_ascii=False)\n",
    "#     outfile.write(to_unicode(str_))"
   ]
  }
 ],
 "metadata": {
  "kernelspec": {
   "display_name": "Python 3",
   "language": "python",
   "name": "python3"
  },
  "language_info": {
   "codemirror_mode": {
    "name": "ipython",
    "version": 3
   },
   "file_extension": ".py",
   "mimetype": "text/x-python",
   "name": "python",
   "nbconvert_exporter": "python",
   "pygments_lexer": "ipython3",
   "version": "3.6.0"
  }
 },
 "nbformat": 4,
 "nbformat_minor": 2
}

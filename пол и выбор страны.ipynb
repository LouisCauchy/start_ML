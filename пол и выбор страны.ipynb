{
 "cells": [
  {
   "cell_type": "code",
   "execution_count": 1,
   "metadata": {
    "collapsed": true
   },
   "outputs": [],
   "source": [
    "import pandas as pd\n",
    "import pickle"
   ]
  },
  {
   "cell_type": "code",
   "execution_count": 2,
   "metadata": {
    "collapsed": true
   },
   "outputs": [],
   "source": [
    "filepath_users = 'data/turpravda/userswTypes'; \n",
    "filepath_rev = 'data/turpravda/tripswTypes'; \n",
    "filepath_hotels = 'data/turpravda/hotels39K'\n",
    "filepath_countries = 'data/turpravda/iso-flags.csv'\n",
    "filepath_resorts = 'data/turpravda/resorts'\n",
    "\n",
    "countries = pd.read_csv(filepath_countries)\n",
    "hotels = pd.read_pickle(filepath_hotels)\n",
    "resorts = pd.read_pickle(filepath_resorts)\n",
    "reviews = pd.read_pickle(filepath_rev)\n",
    "with open(filepath_users, 'rb') as f:\n",
    "    users = pickle.load(f)\n",
    "id_for_users = [i for i in range(len(users))]\n",
    "users['user_id'] = id_for_users"
   ]
  },
  {
   "cell_type": "code",
   "execution_count": 4,
   "metadata": {
    "collapsed": false
   },
   "outputs": [],
   "source": [
    "n_users = len(users)"
   ]
  },
  {
   "cell_type": "code",
   "execution_count": 16,
   "metadata": {
    "collapsed": false
   },
   "outputs": [],
   "source": [
    "n_male = len(users[users.gender == 'male'])\n",
    "n_female = len(users[users.gender == 'female'])\n",
    "n_nan = len(users[(users.gender != 'male') & (users.gender != 'female')])"
   ]
  },
  {
   "cell_type": "code",
   "execution_count": 19,
   "metadata": {
    "collapsed": false
   },
   "outputs": [
    {
     "name": "stdout",
     "output_type": "stream",
     "text": [
      "Женщин:  0.1210649206452877 \n",
      "Мужчин 0.04829044477826399 \n",
      "Не указали:  0.8306446345764483\n"
     ]
    }
   ],
   "source": [
    "print('Женщин: ', n_female/n_users,'\\nМужчин', n_male/n_users, '\\nНе указали: ', n_nan/n_users)"
   ]
  },
  {
   "cell_type": "code",
   "execution_count": null,
   "metadata": {
    "collapsed": true
   },
   "outputs": [],
   "source": []
  }
 ],
 "metadata": {
  "kernelspec": {
   "display_name": "Python 3",
   "language": "python",
   "name": "python3"
  },
  "language_info": {
   "codemirror_mode": {
    "name": "ipython",
    "version": 3
   },
   "file_extension": ".py",
   "mimetype": "text/x-python",
   "name": "python",
   "nbconvert_exporter": "python",
   "pygments_lexer": "ipython3",
   "version": "3.6.0"
  }
 },
 "nbformat": 4,
 "nbformat_minor": 2
}
